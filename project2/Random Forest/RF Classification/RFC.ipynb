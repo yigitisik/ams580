{
 "cells": [
  {
   "cell_type": "markdown",
   "id": "0dc0c789",
   "metadata": {},
   "source": [
    "# Random Forest - Classification Task"
   ]
  },
  {
   "cell_type": "code",
   "execution_count": 1,
   "id": "86ba5ea5",
   "metadata": {},
   "outputs": [],
   "source": [
    "import numpy as np\n",
    "import pandas as pd"
   ]
  },
  {
   "cell_type": "code",
   "execution_count": 2,
   "id": "e676379c",
   "metadata": {},
   "outputs": [],
   "source": [
    "data = pd.read_csv(\"Titanic/train.csv\")"
   ]
  },
  {
   "cell_type": "code",
   "execution_count": 3,
   "id": "9c4b3c24",
   "metadata": {},
   "outputs": [],
   "source": [
    "col = [\"PassengerId\", \"Name\", \"Ticket\", \"Cabin\"]\n",
    "data = data.drop(col, axis = 1)"
   ]
  },
  {
   "cell_type": "code",
   "execution_count": 4,
   "id": "a3bfb738",
   "metadata": {},
   "outputs": [
    {
     "name": "stdout",
     "output_type": "stream",
     "text": [
      "   Survived  Pclass     Sex   Age  SibSp  Parch     Fare Embarked\n",
      "0         0       3    male  22.0      1      0   7.2500        S\n",
      "1         1       1  female  38.0      1      0  71.2833        C\n",
      "2         1       3  female  26.0      0      0   7.9250        S\n",
      "3         1       1  female  35.0      1      0  53.1000        S\n",
      "4         0       3    male  35.0      0      0   8.0500        S\n",
      "(891, 8)\n"
     ]
    }
   ],
   "source": [
    "print(data.head())\n",
    "print(data.shape)"
   ]
  },
  {
   "cell_type": "code",
   "execution_count": 5,
   "id": "60905a37",
   "metadata": {},
   "outputs": [
    {
     "name": "stdout",
     "output_type": "stream",
     "text": [
      "No of observations in the data frame : 712\n"
     ]
    }
   ],
   "source": [
    "data = data.dropna()\n",
    "print(\"No of observations in the data frame : {}\".format(data.shape[0]))"
   ]
  },
  {
   "cell_type": "code",
   "execution_count": 6,
   "id": "06b42f59",
   "metadata": {},
   "outputs": [
    {
     "name": "stdout",
     "output_type": "stream",
     "text": [
      "     Survived  Pclass  Sex   Age  SibSp  Parch     Fare  Embarked\n",
      "0           0       3    1  22.0      1      0   7.2500         2\n",
      "1           1       1    0  38.0      1      0  71.2833         0\n",
      "2           1       3    0  26.0      0      0   7.9250         2\n",
      "3           1       1    0  35.0      1      0  53.1000         2\n",
      "4           0       3    1  35.0      0      0   8.0500         2\n",
      "..        ...     ...  ...   ...    ...    ...      ...       ...\n",
      "885         0       3    0  39.0      0      5  29.1250         1\n",
      "886         0       2    1  27.0      0      0  13.0000         2\n",
      "887         1       1    0  19.0      0      0  30.0000         2\n",
      "889         1       1    1  26.0      0      0  30.0000         0\n",
      "890         0       3    1  32.0      0      0   7.7500         1\n",
      "\n",
      "[712 rows x 8 columns]\n"
     ]
    }
   ],
   "source": [
    "from sklearn.preprocessing import LabelEncoder\n",
    "\n",
    "le = LabelEncoder()\n",
    "data['Sex'] = le.fit_transform(data['Sex'])\n",
    "data['Embarked'] = le.fit_transform(data['Embarked'])\n",
    "print(data)"
   ]
  },
  {
   "cell_type": "code",
   "execution_count": 7,
   "id": "b23e9008",
   "metadata": {},
   "outputs": [],
   "source": [
    "y = data[\"Survived\"]\n",
    "X = data.drop(\"Survived\", axis = 1)"
   ]
  },
  {
   "cell_type": "code",
   "execution_count": 8,
   "id": "d584c79f",
   "metadata": {},
   "outputs": [],
   "source": [
    "from sklearn.ensemble import RandomForestClassifier\n",
    "from sklearn.model_selection import train_test_split"
   ]
  },
  {
   "cell_type": "code",
   "execution_count": 9,
   "id": "6529f80b",
   "metadata": {},
   "outputs": [],
   "source": [
    "X_train, X_test, y_train, y_test = train_test_split(X, y, test_size=0.25, random_state=42)"
   ]
  },
  {
   "cell_type": "code",
   "execution_count": 10,
   "id": "1bf4a95b",
   "metadata": {},
   "outputs": [],
   "source": [
    "rf = RandomForestClassifier(n_estimators=100, oob_score = True, random_state=42)\n",
    "\n",
    "rf.fit(X_train, y_train)\n",
    "\n",
    "y_pred = rf.predict(X_test)"
   ]
  },
  {
   "cell_type": "code",
   "execution_count": 11,
   "id": "46db76d0",
   "metadata": {},
   "outputs": [
    {
     "name": "stdout",
     "output_type": "stream",
     "text": [
      "[1 1 0 1 0 0 1 1 0 0 0 0 0 0 1 1 1 0 1 1 0 1 1 0 0 1 0 1 0 1 1 0 0 0 1 0 0\n",
      " 1 1 0 0 0 0 0 0 0 0 0 0 1 0 0 1 0 0 1 1 1 1 0 1 0 0 1 0 0 0 0 1 0 1 1 0 0\n",
      " 1 1 0 0 0 1 0 1 1 0 0 0 1 1 0 1 0 0 0 0 0 1 1 0 1 1 1 0 1 0 0 0 1 0 0 0 0\n",
      " 0 0 0 0 0 0 1 1 0 0 1 1 1 1 1 0 1 0 0 1 0 0 0 0 0 0 0 0 1 1 1 1 1 1 0 1 1\n",
      " 1 0 1 1 1 1 0 0 1 0 0 1 0 1 0 0 1 1 0 0 0 1 0 0 0 1 1 1 0 0]\n"
     ]
    }
   ],
   "source": [
    "threshold = 0.5\n",
    "predicted_labels = np.empty(len(y_pred), dtype = int)\n",
    "for i in range(len(y_pred)):\n",
    "    if y_pred[i] >= threshold:\n",
    "        predicted_labels[i] = 1\n",
    "    else:\n",
    "        predicted_labels[i] = 0\n",
    "        \n",
    "print(predicted_labels)"
   ]
  },
  {
   "cell_type": "code",
   "execution_count": 12,
   "id": "b385e969",
   "metadata": {},
   "outputs": [],
   "source": [
    "from sklearn.metrics import confusion_matrix"
   ]
  },
  {
   "cell_type": "code",
   "execution_count": 13,
   "id": "74146ed4",
   "metadata": {},
   "outputs": [
    {
     "name": "stdout",
     "output_type": "stream",
     "text": [
      "[[80 19]\n",
      " [22 57]]\n"
     ]
    }
   ],
   "source": [
    "cm = confusion_matrix(y_test, predicted_labels)\n",
    "print(cm)"
   ]
  },
  {
   "cell_type": "code",
   "execution_count": 14,
   "id": "70f419a3",
   "metadata": {},
   "outputs": [
    {
     "name": "stdout",
     "output_type": "stream",
     "text": [
      "Sensitivity: 0.7215189873417721\n",
      "Specificity: 0.8080808080808081\n",
      "Accuracy: 0.7696629213483146\n"
     ]
    }
   ],
   "source": [
    "tn, fp, fn, tp = confusion_matrix(y_test, predicted_labels).ravel()\n",
    "\n",
    "sensitivity = tp / (tp + fn)\n",
    "specificity = tn / (tn + fp)\n",
    "accuracy = (tp + tn) / (tp + tn + fp + fn)\n",
    "\n",
    "print(\"Sensitivity:\", sensitivity)\n",
    "print(\"Specificity:\", specificity)\n",
    "print(\"Accuracy:\", accuracy)"
   ]
  },
  {
   "cell_type": "code",
   "execution_count": 15,
   "id": "88322bf1",
   "metadata": {},
   "outputs": [],
   "source": [
    "test_data = pd.read_csv(\"Titanic/test.csv\")"
   ]
  },
  {
   "cell_type": "code",
   "execution_count": 16,
   "id": "0e523f68",
   "metadata": {},
   "outputs": [],
   "source": [
    "test_data = test_data.drop(col, axis = 1)"
   ]
  },
  {
   "cell_type": "code",
   "execution_count": 17,
   "id": "748c7fc6",
   "metadata": {},
   "outputs": [],
   "source": [
    "test_data['Sex'] = le.fit_transform(test_data['Sex'])\n",
    "test_data['Embarked'] = le.fit_transform(test_data['Embarked'])\n",
    "test_data = test_data.dropna()"
   ]
  },
  {
   "cell_type": "code",
   "execution_count": 18,
   "id": "ea870ba9",
   "metadata": {},
   "outputs": [
    {
     "name": "stdout",
     "output_type": "stream",
     "text": [
      "No of observations in the test data frame : 331\n"
     ]
    }
   ],
   "source": [
    "test_data = test_data.dropna()\n",
    "print(\"No of observations in the test data frame : {}\".format(test_data.shape[0]))"
   ]
  },
  {
   "cell_type": "code",
   "execution_count": 19,
   "id": "6268825d",
   "metadata": {},
   "outputs": [],
   "source": [
    "test_pred = rf.predict(test_data)"
   ]
  },
  {
   "cell_type": "code",
   "execution_count": 20,
   "id": "61390ea8",
   "metadata": {},
   "outputs": [
    {
     "name": "stdout",
     "output_type": "stream",
     "text": [
      "[0 0 0 1 0 0 0 0 0 0 0 1 0 1 1 0 0 0 0 1 0 0 1 0 1 1 1 0 0 1 1 0 0 0 0 0 1\n",
      " 1 0 0 1 1 1 0 1 1 0 0 0 1 0 0 0 1 1 1 0 0 1 1 0 0 0 1 0 1 0 1 1 0 1 1 0 1\n",
      " 0 1 1 0 1 0 0 0 1 0 0 1 0 0 0 0 1 0 1 0 1 0 1 1 1 0 1 0 0 0 1 0 0 0 0 0 0\n",
      " 0 0 1 0 0 1 0 0 0 1 1 0 0 1 0 1 1 1 1 0 0 0 0 0 0 0 0 1 1 1 1 1 0 0 1 1 0\n",
      " 1 0 0 0 1 0 1 0 1 0 0 1 0 1 0 0 0 1 0 0 0 1 1 0 0 1 1 0 1 1 1 0 0 0 0 1 0\n",
      " 1 0 0 0 1 1 1 1 0 0 1 0 1 1 0 0 0 0 0 1 0 0 0 1 1 0 0 0 1 1 0 0 0 0 0 1 1\n",
      " 1 0 0 0 0 0 0 1 0 0 0 0 0 1 0 1 0 0 0 1 0 1 1 0 0 0 0 0 0 0 1 1 0 1 0 1 0\n",
      " 1 1 1 0 0 0 0 0 0 0 1 1 0 0 0 1 1 0 0 0 1 1 1 0 0 1 1 1 1 0 1 0 0 1 0 0 1\n",
      " 1 0 0 0 0 0 0 1 0 0 0 0 0 1 0 0 0 1 0 1 0 0 1 0 1 0 1 0 0 0 1 1 1 1 0]\n"
     ]
    }
   ],
   "source": [
    "predicted_test_labels = np.empty(len(test_pred), dtype = int)\n",
    "for i in range(len(test_pred)):\n",
    "    if test_pred[i] >= threshold:\n",
    "        predicted_test_labels[i] = 1\n",
    "    else:\n",
    "        predicted_test_labels[i] = 0\n",
    "        \n",
    "print(predicted_test_labels)"
   ]
  },
  {
   "cell_type": "code",
   "execution_count": 21,
   "id": "32a3b032",
   "metadata": {},
   "outputs": [
    {
     "name": "stdout",
     "output_type": "stream",
     "text": [
      "     Pclass  Sex   Age  SibSp  Parch      Fare  Embarked  Predicted_Labels\n",
      "0         3    1  34.5      0      0    7.8292         1                 0\n",
      "1         3    0  47.0      1      0    7.0000         2                 0\n",
      "2         2    1  62.0      0      0    9.6875         1                 0\n",
      "3         3    1  27.0      0      0    8.6625         2                 1\n",
      "4         3    0  22.0      1      1   12.2875         2                 0\n",
      "..      ...  ...   ...    ...    ...       ...       ...               ...\n",
      "409       3    0   3.0      1      1   13.7750         2                 1\n",
      "411       1    0  37.0      1      0   90.0000         1                 1\n",
      "412       3    0  28.0      0      0    7.7750         2                 1\n",
      "414       1    0  39.0      0      0  108.9000         0                 1\n",
      "415       3    1  38.5      0      0    7.2500         2                 0\n",
      "\n",
      "[331 rows x 8 columns]\n"
     ]
    }
   ],
   "source": [
    "test_data[\"Predicted_Labels\"] = predicted_test_labels\n",
    "print(test_data)"
   ]
  },
  {
   "cell_type": "code",
   "execution_count": 22,
   "id": "8d95be4a",
   "metadata": {},
   "outputs": [
    {
     "data": {
      "image/png": "[encoded data removed]",
      "text/plain": [
       "<Figure size 432x288 with 1 Axes>"
      ]
     },
     "metadata": {
      "needs_background": "light"
     },
     "output_type": "display_data"
    }
   ],
   "source": [
    "import matplotlib.pyplot as plt\n",
    "\n",
    "# get the feature importances from the random forest model\n",
    "importances = rf.feature_importances_\n",
    "\n",
    "# sort the feature importances in descending order\n",
    "indices = np.argsort(importances)[::-1]\n",
    "\n",
    "# get the names of the features\n",
    "features = X.columns\n",
    "\n",
    "# plot the mean decrease Gini and mean decrease accuracy\n",
    "plt.figure()\n",
    "plt.title(\"Feature Importance\")\n",
    "plt.bar(range(X.shape[1]), importances[indices], color=\"r\", align=\"center\")\n",
    "plt.xticks(range(X.shape[1]), features[indices], rotation=90)\n",
    "plt.xlim([-1, X.shape[1]])\n",
    "plt.show()\n"
   ]
  },
  {
   "cell_type": "code",
   "execution_count": 23,
   "id": "85f751b0",
   "metadata": {},
   "outputs": [
    {
     "data": {
      "image/png": "[encoded data removed]",
      "text/plain": [
       "<Figure size 720x360 with 2 Axes>"
      ]
     },
     "metadata": {
      "needs_background": "light"
     },
     "output_type": "display_data"
    }
   ],
   "source": [
    "importance_meandecreaseaccuracy = rf.feature_importances_\n",
    "importance_meandecreasegini = rf.feature_importances_\n",
    "\n",
    "feature_names = X.columns\n",
    "\n",
    "indices_meandecreaseaccuracy = np.argsort(importance_meandecreaseaccuracy)[::-1]\n",
    "indices_meandecreasegini = np.argsort(importance_meandecreasegini)[::-1]\n",
    "\n",
    "plt.figure(figsize=(10,5))\n",
    "plt.subplot(1,2,1)\n",
    "plt.title(\"Mean Decrease Accuracy\")\n",
    "plt.bar(range(X.shape[1]), importance_meandecreaseaccuracy[indices_meandecreaseaccuracy])\n",
    "plt.xticks(range(X.shape[1]), feature_names[indices_meandecreaseaccuracy], rotation=90)\n",
    "plt.subplot(1,2,2)\n",
    "plt.title(\"Mean Decrease Gini\")\n",
    "plt.bar(range(X.shape[1]), importance_meandecreasegini[indices_meandecreasegini])\n",
    "plt.xticks(range(X.shape[1]), feature_names[indices_meandecreasegini], rotation=90)\n",
    "plt.tight_layout()\n",
    "plt.show()"
   ]
  },
  {
   "cell_type": "markdown",
   "id": "40027988",
   "metadata": {},
   "source": [
    "**The number of variables to be cnsidererd at each node in the case that we have 36 variables is 6.**"
   ]
  }
 ],
 "metadata": {
  "kernelspec": {
   "display_name": "Python 3.8 (myenv)",
   "language": "python",
   "name": "myenv"
  },
  "language_info": {
   "codemirror_mode": {
    "name": "ipython",
    "version": 3
   },
   "file_extension": ".py",
   "mimetype": "text/x-python",
   "name": "python",
   "nbconvert_exporter": "python",
   "pygments_lexer": "ipython3",
   "version": "3.9.7"
  }
 },
 "nbformat": 4,
 "nbformat_minor": 5
}
